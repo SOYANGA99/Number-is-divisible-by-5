{
 "cells": [
  {
   "cell_type": "code",
   "execution_count": 3,
   "id": "2be5e535",
   "metadata": {},
   "outputs": [
    {
     "name": "stdout",
     "output_type": "stream",
     "text": [
      "Enter A Number:-13\n",
      "Number Is Not Divisible By 5\n"
     ]
    }
   ],
   "source": [
    "no= int(input(\"Enter A Number:-\"))\n",
    "if(no%5==0):\n",
    "    print(\"Number Is Divisible By 5\")\n",
    "else:\n",
    "    print(\"Number Is Not Divisible By 5\")"
   ]
  },
  {
   "cell_type": "code",
   "execution_count": null,
   "id": "10d0b95f",
   "metadata": {},
   "outputs": [],
   "source": []
  }
 ],
 "metadata": {
  "kernelspec": {
   "display_name": "Python 3 (ipykernel)",
   "language": "python",
   "name": "python3"
  },
  "language_info": {
   "codemirror_mode": {
    "name": "ipython",
    "version": 3
   },
   "file_extension": ".py",
   "mimetype": "text/x-python",
   "name": "python",
   "nbconvert_exporter": "python",
   "pygments_lexer": "ipython3",
   "version": "3.9.7"
  }
 },
 "nbformat": 4,
 "nbformat_minor": 5
}
